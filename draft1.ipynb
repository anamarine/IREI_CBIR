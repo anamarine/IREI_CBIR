{
 "cells": [
  {
   "cell_type": "code",
   "execution_count": 1,
   "metadata": {
    "collapsed": true
   },
   "outputs": [],
   "source": [
    "import cv2\n",
    "import numpy as np\n",
    "from glob2 import glob\n",
    "import os, os.path\n",
    "from platform import platform\n",
    "\n",
    "n_color_histogram_categories=64"
   ]
  },
  {
   "cell_type": "code",
   "execution_count": 19,
   "outputs": [],
   "source": [
    "im1 = cv2.imread('/Users/Anita/Documents/HMDA/2ndSemester/IREI/CBIR/python_project/testingImg/im1.jpg')\n",
    "im2 = cv2.imread('/Users/Anita/Documents/HMDA/2ndSemester/IREI/CBIR/python_project/testingImg/im2.jpg')\n",
    "im3 = cv2.imread('/Users/Anita/Documents/HMDA/2ndSemester/IREI/CBIR/python_project/testingImg/im3.jpg')\n"
   ],
   "metadata": {
    "collapsed": false,
    "pycharm": {
     "name": "#%%\n"
    }
   }
  },
  {
   "cell_type": "markdown",
   "source": [
    "# Feature extraction functions"
   ],
   "metadata": {
    "collapsed": false,
    "pycharm": {
     "name": "#%% md\n"
    }
   }
  },
  {
   "cell_type": "code",
   "execution_count": 15,
   "outputs": [],
   "source": [
    "def ColorHistogram(img):\n",
    "    # Calculte and normalize the histogram for each channel then append them\n",
    "    histogram = cv2.calcHist([img],[0],None,[n_color_histogram_categories],[0,256])\n",
    "    histogram = cv2.normalize(histogram, None)\n",
    "\n",
    "    ch1_histogram = cv2.calcHist([img],[1],None,[n_color_histogram_categories],[0,256])\n",
    "    ch1_histogram = cv2.normalize(ch1_histogram, None)\n",
    "    histogram = np.vstack((histogram, ch1_histogram))\n",
    "\n",
    "    ch2_histogram = cv2.calcHist([img],[2],None,[n_color_histogram_categories],[0,256])\n",
    "    ch2_histogram = cv2.normalize(ch2_histogram, None)\n",
    "    histogram = np.vstack((histogram, ch2_histogram))\n",
    "\n",
    "    return histogram\n",
    "\n",
    "def TextureGaborFilter(img):\n",
    "    # returns the img filtered by the filter list of kernels in several orientations\n",
    "    filters = []\n",
    "    ksize = 31\n",
    "    for theta in np.arange(0, np.pi, np.pi / 30):\n",
    "        params = {'ksize':(ksize, ksize), 'sigma':1.0, 'theta':theta, 'lambd':15.0,\n",
    "                  'gamma':0.02, 'psi':0, 'ktype':cv2.CV_32F}\n",
    "        kern = cv2.getGaborKernel(**params)\n",
    "        kern /= 1.5*kern.sum()\n",
    "        filters.append((kern,params))\n",
    "\n",
    "    accum = np.zeros_like(img)\n",
    "    for kern,params in filters:\n",
    "        fimg = cv2.filter2D(img, cv2.CV_8UC3, kern)\n",
    "        np.maximum(accum, fimg, accum)\n",
    "    accum = accum.reshape(-1, 1)\n",
    "    return accum\n",
    "\n",
    "def FusionFeaturesVector(img):\n",
    "    # Create the features of each category\n",
    "    features_vector = ColorHistogram(img)\n",
    "\n",
    "    gabor_filtered = TextureGaborFilter(img)\n",
    "    features_vector = np.vstack((features_vector, gabor_filtered))\n",
    "\n",
    "    return features_vector"
   ],
   "metadata": {
    "collapsed": false,
    "pycharm": {
     "name": "#%%\n"
    }
   }
  },
  {
   "cell_type": "markdown",
   "source": [
    "# Index images and store"
   ],
   "metadata": {
    "collapsed": false,
    "pycharm": {
     "name": "#%% md\n"
    }
   }
  },
  {
   "cell_type": "code",
   "execution_count": 7,
   "outputs": [],
   "source": [
    "#dataPath = os.path.realpath('') + '/testing_images/'\n",
    "dataPath = os.path.realpath('') + '/data/'\n",
    "data = glob(dataPath)\n",
    "imgFiles = []\n",
    "imgFiles.extend(glob(dataPath + '*.JPG'))\n",
    "imgFiles.extend(glob(dataPath + '*.JPEG'))\n",
    "imgFiles.extend(glob(dataPath + '*.BMP'))\n",
    "imgFiles.extend(glob(dataPath + '*.PNG'))\n",
    "\n",
    "# windows is case insensitive so we don't need to add this\n",
    "if not platform().startswith('Windows'):\n",
    "    imgFiles.extend(glob(dataPath + '*.jpg'))\n",
    "    imgFiles.extend(glob(dataPath + '*.jpeg'))\n",
    "    imgFiles.extend(glob(dataPath + '*.bmp'))\n",
    "    imgFiles.extend(glob(dataPath + '*.png'))"
   ],
   "metadata": {
    "collapsed": false,
    "pycharm": {
     "name": "#%%\n"
    }
   }
  },
  {
   "cell_type": "code",
   "execution_count": null,
   "outputs": [],
   "source": [
    "# create the feature vector for every image\n",
    "for i, imgFile in enumerate(imgFiles):\n",
    "    # read image file\n",
    "    img = cv2.imread(imgFile, 1)\n",
    "    # convert all images to RGB\n",
    "    img = cv2.cvtColor(img, cv2.COLOR_BGR2RGB)\n",
    "\n",
    "    # Save the features vector to files\n",
    "    histFeaturesVector = ColorHistogram(img)\n",
    "    texFeaturesVector = TextureGaborFilter(img)\n",
    "    fusionFeaturesVector = FusionFeaturesVector(img)\n",
    "\n",
    "    if(imgFile[len(imgFile)-6:] == '.JPEG' or imgFile[len(imgFile)-6:] == '.jpeg' ):\n",
    "        histFeaturesVectorFileName = dataPath + 'histogramIdx/' + imgFile[70:len(imgFile)-5]\n",
    "        texFeaturesVectorFileName = dataPath + 'textureIdx/' + imgFile[70:len(imgFile)-5]\n",
    "        fusionFeaturesVectorFileName = dataPath + 'fusionIdx/' + imgFile[70:len(imgFile)-5]\n",
    "\n",
    "    else:\n",
    "        histFeaturesVectorFileName = dataPath + 'histogramIdx/' + imgFile[70:len(imgFile)-4]\n",
    "        texFeaturesVectorFileName = dataPath + 'textureIdx/' + imgFile[70:len(imgFile)-4]\n",
    "        fusionFeaturesVectorFileName = dataPath + 'fusionIdx/' + imgFile[70:len(imgFile)-4]\n",
    "\n",
    "    np.save(histFeaturesVectorFileName, histFeaturesVector)\n",
    "    np.save(texFeaturesVectorFileName, texFeaturesVector)\n",
    "    np.save(fusionFeaturesVectorFileName, fusionFeaturesVector)"
   ],
   "metadata": {
    "collapsed": false,
    "pycharm": {
     "name": "#%%\n"
    }
   }
  },
  {
   "cell_type": "markdown",
   "source": [
    "# Collect feature files"
   ],
   "metadata": {
    "collapsed": false,
    "pycharm": {
     "name": "#%% md\n"
    }
   }
  },
  {
   "cell_type": "code",
   "execution_count": 42,
   "outputs": [],
   "source": [
    "# now only get feature files in each folder (category)\n",
    "histFolder = dataPath + 'histogramIdx/'\n",
    "texFolder = dataPath + 'textureIdx/'\n",
    "fusionFolder = dataPath + 'fusionIdx/'\n",
    "histFeatureFiles = []\n",
    "texFeatureFiles = []\n",
    "fusionFeatureFiles = []\n",
    "\n",
    "# save the paths in np array\n",
    "histFeatureFiles.extend(glob(str(histFolder) + '*.npy'))\n",
    "texFeatureFiles.extend(glob(str(texFolder) + '*.npy'))\n",
    "fusionFeatureFiles.extend(glob(str(fusionFolder) + '*.npy'))"
   ],
   "metadata": {
    "collapsed": false,
    "pycharm": {
     "name": "#%%\n"
    }
   }
  },
  {
   "cell_type": "code",
   "execution_count": 74,
   "outputs": [],
   "source": [
    "histFeatureVector = [] # hist\n",
    "texFeatureVector = [] # tex\n",
    "fusionFeatureVector = [] # fusion\n",
    "def CollectHistFeatures():\n",
    "    for i, featureFile in enumerate(histFeatureFiles):\n",
    "        # get image path to be able to show it later\n",
    "        imgName = featureFile[83:].replace('.npy', '')\n",
    "        # load the numpy array and add it to the list of feature vectors\n",
    "        histFeatureVector.append([imgName, np.load(featureFile)])\n",
    "\n",
    "def CollectTexFeatures():\n",
    "    for i, featureFile in enumerate(texFeatureFiles):\n",
    "        # get image path to be able to show it later\n",
    "        imgName = featureFile[81:].replace('.npy', '')\n",
    "        # load the numpy array and add it to the list of feature vectors\n",
    "        texFeatureVector.append([imgName, np.load(featureFile)])\n",
    "\n",
    "def CollectFusionFeatures():\n",
    "    for i, featureFile in enumerate(fusionFeatureFiles):\n",
    "        # get image path to be able to show it later\n",
    "        imgName = featureFile[80:].replace('.npy', '')\n",
    "        # load the numpy array and add it to the list of feature vectors\n",
    "        fusionFeatureVector.append([imgName, np.load(featureFile)])"
   ],
   "metadata": {
    "collapsed": false,
    "pycharm": {
     "name": "#%%\n"
    }
   }
  },
  {
   "cell_type": "code",
   "execution_count": 75,
   "outputs": [
    {
     "data": {
      "text/plain": "(500, 500, 500)"
     },
     "execution_count": 75,
     "metadata": {},
     "output_type": "execute_result"
    }
   ],
   "source": [
    "CollectHistFeatures()\n",
    "CollectTexFeatures()\n",
    "CollectFusionFeatures()\n",
    "\n",
    "len(histFeatureVector), len(texFeatureVector), len(fusionFeatureVector)"
   ],
   "metadata": {
    "collapsed": false,
    "pycharm": {
     "name": "#%%\n"
    }
   }
  },
  {
   "cell_type": "code",
   "execution_count": 77,
   "outputs": [
    {
     "data": {
      "text/plain": "True"
     },
     "execution_count": 77,
     "metadata": {},
     "output_type": "execute_result"
    }
   ],
   "source": [
    "len(histFeatureVector[0][1]), len(texFeatureVector[0][1]), len(fusionFeatureVector[0][1])"
   ],
   "metadata": {
    "collapsed": false,
    "pycharm": {
     "name": "#%%\n"
    }
   }
  },
  {
   "cell_type": "code",
   "execution_count": null,
   "outputs": [],
   "source": [
    "histFeatureVector[0][0] == texFeatureVector[0][0] == fusionFeatureVector[0][0]"
   ],
   "metadata": {
    "collapsed": false,
    "pycharm": {
     "name": "#%%\n"
    }
   }
  },
  {
   "cell_type": "markdown",
   "source": [
    "# Pruebas"
   ],
   "metadata": {
    "collapsed": false,
    "pycharm": {
     "name": "#%% md\n"
    }
   }
  },
  {
   "cell_type": "code",
   "execution_count": 20,
   "outputs": [
    {
     "data": {
      "text/plain": "((192, 1), (150528, 1), (150720, 1))"
     },
     "execution_count": 20,
     "metadata": {},
     "output_type": "execute_result"
    }
   ],
   "source": [
    "h1 = ColorHistogram(im1)\n",
    "tgf1 = TextureGaborFilter(im1)\n",
    "fv1 = FusionFeaturesVector(im1)\n",
    "\n",
    "h1.shape, tgf1.shape, fv1.shape"
   ],
   "metadata": {
    "collapsed": false,
    "pycharm": {
     "name": "#%%\n"
    }
   }
  },
  {
   "cell_type": "code",
   "execution_count": 17,
   "outputs": [],
   "source": [
    "histogram1 = cv2.calcHist([im1],[0],None,[n_color_histogram_categories],[0,256])\n",
    "histogram1 = cv2.normalize(histogram1, None)\n",
    "\n",
    "histogram2 = cv2.calcHist([im2],[0],None,[n_color_histogram_categories],[0,256])\n",
    "histogram2 = cv2.normalize(histogram2, None)\n",
    "\n",
    "histogram3 = cv2.calcHist([im3],[0],None,[n_color_histogram_categories],[0,256])\n",
    "histogram3 = cv2.normalize(histogram3, None)"
   ],
   "metadata": {
    "collapsed": false,
    "pycharm": {
     "name": "#%%\n"
    }
   }
  },
  {
   "cell_type": "code",
   "execution_count": 18,
   "outputs": [
    {
     "data": {
      "text/plain": "(1.0, 1.0, 1.0)"
     },
     "execution_count": 18,
     "metadata": {},
     "output_type": "execute_result"
    }
   ],
   "source": [
    "comp11=cv2.compareHist(histogram1,histogram1,0)\n",
    "comp12=cv2.compareHist(histogram1,histogram2,0)\n",
    "comp13=cv2.compareHist(histogram1,histogram3,0)\n",
    "comp11, comp12, comp13"
   ],
   "metadata": {
    "collapsed": false,
    "pycharm": {
     "name": "#%%\n"
    }
   }
  }
 ],
 "metadata": {
  "kernelspec": {
   "display_name": "Python 3",
   "language": "python",
   "name": "python3"
  },
  "language_info": {
   "codemirror_mode": {
    "name": "ipython",
    "version": 2
   },
   "file_extension": ".py",
   "mimetype": "text/x-python",
   "name": "python",
   "nbconvert_exporter": "python",
   "pygments_lexer": "ipython2",
   "version": "2.7.6"
  }
 },
 "nbformat": 4,
 "nbformat_minor": 0
}